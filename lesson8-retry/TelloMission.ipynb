{
 "cells": [
  {
   "cell_type": "code",
   "execution_count": null,
   "metadata": {},
   "outputs": [],
   "source": [
    "# This example script demonstrates how to get a response from Tello and use retry logic in the case of a failed command\n",
    "# This script is part of our course on Tello drone programming\n",
    "# https://learn.droneblocks.io/p/tello-drone-programming-with-python/\n",
    "\n",
    "from TelloRetry import Tello\n",
    "import time\n",
    "\n",
    "# Initialize our tello object\n",
    "tello = Tello()\n",
    "\n",
    "# Retry function with a command name and number of times to retry\n",
    "def retry(command, times):\n",
    "\n",
    "  # Configure a delay between each retry\n",
    "  delay = 5\n",
    "\n",
    "  # Send command to Tello and get response\n",
    "  response = tello.send(command)\n",
    "\n",
    "  # Delay before we send the next command\n",
    "  time.sleep(delay)\n",
    "\n",
    "  # See if the response was invalid\n",
    "  if response != \"OK\":\n",
    "\n",
    "    # Loop N times to retry the command with a 3s delay for each loop\n",
    "    for i in range(times):\n",
    "\n",
    "      # Send command again\n",
    "      response = tello.send(command)\n",
    "\n",
    "      # If response was good then lets break\n",
    "      if response == \"OK\":\n",
    "        break\n",
    "      # Otherwise delay and loop again\n",
    "      else:\n",
    "        # Delay 5 seconds before retrying the command\n",
    "        time.sleep(delay)\n",
    "\n",
    "# Issue a series of SDK commands and watch the retry logic in action\n",
    "retry(\"command\", 2)\n",
    "retry(\"takeoff\", 2)\n",
    "\n",
    "# Send an invalid command to Tello\n",
    "retry(\"bad command\", 2)\n",
    "\n",
    "# Loop four times to fly back and forth\n",
    "for i in range(4):\n",
    "  retry(\"forward 75\", 2)\n",
    "  retry(\"cw 180\", 2)\n",
    "  \n",
    "# Send a command with a value out of range\n",
    "retry(\"speed 1000\", 2)\n",
    "\n",
    "# Land\n",
    "retry(\"land\", 2)"
   ]
  }
 ],
 "metadata": {
  "kernelspec": {
   "display_name": "Python 3",
   "language": "python",
   "name": "python3"
  },
  "language_info": {
   "codemirror_mode": {
    "name": "ipython",
    "version": 3
   },
   "file_extension": ".py",
   "mimetype": "text/x-python",
   "name": "python",
   "nbconvert_exporter": "python",
   "pygments_lexer": "ipython3",
   "version": "3.6.4"
  }
 },
 "nbformat": 4,
 "nbformat_minor": 2
}
