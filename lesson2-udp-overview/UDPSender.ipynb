{
 "cells": [
  {
   "cell_type": "code",
   "execution_count": 5,
   "metadata": {},
   "outputs": [
    {
     "name": "stdout",
     "output_type": "stream",
     "text": [
      "Message sent!\n"
     ]
    }
   ],
   "source": [
    "# This example script demonstrates how to send a basic command over UDP to Tello\n",
    "# We will use PacketSender to simulate Tello for the purposes of this demonstration.\n",
    "# PacketSender makes it easy to test code that can then be run when connected to Tello.\n",
    "# https://packetsender.com/\n",
    "\n",
    "# This script is part of our course on Tello drone programming\n",
    "# https://learn.droneblocks.io/p/tello-drone-programming-with-python/\n",
    "\n",
    "# Import the built-in socket package\n",
    "import socket\n",
    "\n",
    "# IP and port of sending computer\n",
    "# In this case we're sending a UDP packet to PacketSender for demonstration purposes\n",
    "# Be sure to change this to the IP address of the computer running this Python script\n",
    "simulated_tello_address = ('10.0.1.6', 8889)\n",
    "\n",
    "# Create a UDP connection that we'll send the command to\n",
    "sock = socket.socket(socket.AF_INET, socket.SOCK_DGRAM)\n",
    "\n",
    "# Command variable that we'll send\n",
    "# This \"command\" value is what lets Tello know that we want to enter command mode\n",
    "message = \"command\"\n",
    "\n",
    "# Send the message to Tello\n",
    "sock.sendto(message.encode(), simulated_tello_address)\n",
    "\n",
    "# Print message to screen\n",
    "print(\"Message sent!\")"
   ]
  },
  {
   "cell_type": "code",
   "execution_count": null,
   "metadata": {},
   "outputs": [],
   "source": []
  }
 ],
 "metadata": {
  "kernelspec": {
   "display_name": "Python 3",
   "language": "python",
   "name": "python3"
  },
  "language_info": {
   "codemirror_mode": {
    "name": "ipython",
    "version": 3
   },
   "file_extension": ".py",
   "mimetype": "text/x-python",
   "name": "python",
   "nbconvert_exporter": "python",
   "pygments_lexer": "ipython3",
   "version": "3.6.4"
  }
 },
 "nbformat": 4,
 "nbformat_minor": 2
}
